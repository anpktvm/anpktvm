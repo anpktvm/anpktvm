{
 "cells": [
  {
   "cell_type": "code",
   "execution_count": 1,
   "id": "e9663054",
   "metadata": {},
   "outputs": [
    {
     "name": "stdout",
     "output_type": "stream",
     "text": [
      "anoop\n"
     ]
    }
   ],
   "source": [
    "print('anoop')"
   ]
  },
  {
   "cell_type": "code",
   "execution_count": 3,
   "id": "9d1aca13",
   "metadata": {},
   "outputs": [
    {
     "name": "stdout",
     "output_type": "stream",
     "text": [
      "10\n",
      "hello\n"
     ]
    }
   ],
   "source": [
    "x=10\n",
    "y='hello'\n",
    "print(x)\n",
    "print(y)"
   ]
  },
  {
   "cell_type": "code",
   "execution_count": 4,
   "id": "2930ea5b",
   "metadata": {},
   "outputs": [
    {
     "name": "stdout",
     "output_type": "stream",
     "text": [
      "10 hello\n"
     ]
    }
   ],
   "source": [
    "print(x,y)"
   ]
  },
  {
   "cell_type": "code",
   "execution_count": 5,
   "id": "78de5824",
   "metadata": {},
   "outputs": [
    {
     "name": "stdout",
     "output_type": "stream",
     "text": [
      "The Value of x and y is = 10 hello\n"
     ]
    }
   ],
   "source": [
    "#The value of x is = 10\n",
    "print('The Value of x and y is =', x, y)"
   ]
  },
  {
   "cell_type": "code",
   "execution_count": 8,
   "id": "75443bb1",
   "metadata": {},
   "outputs": [
    {
     "name": "stdout",
     "output_type": "stream",
     "text": [
      "the value of x is 10 and y is hello\n"
     ]
    }
   ],
   "source": [
    "#The value of x is 10 and y is Hello\n",
    "# sign indicates a comment that is a non executable statement\n",
    "print('the value of x is', x,'and y is' ,y)"
   ]
  },
  {
   "cell_type": "code",
   "execution_count": null,
   "id": "7750280a",
   "metadata": {},
   "outputs": [],
   "source": [
    "print"
   ]
  }
 ],
 "metadata": {
  "kernelspec": {
   "display_name": "Python 3 (ipykernel)",
   "language": "python",
   "name": "python3"
  },
  "language_info": {
   "codemirror_mode": {
    "name": "ipython",
    "version": 3
   },
   "file_extension": ".py",
   "mimetype": "text/x-python",
   "name": "python",
   "nbconvert_exporter": "python",
   "pygments_lexer": "ipython3",
   "version": "3.9.12"
  }
 },
 "nbformat": 4,
 "nbformat_minor": 5
}
